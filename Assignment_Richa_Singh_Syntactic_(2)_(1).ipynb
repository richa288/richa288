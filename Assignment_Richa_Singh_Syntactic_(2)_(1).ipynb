{
  "cells": [
    {
      "cell_type": "markdown",
      "metadata": {
        "id": "view-in-github",
        "colab_type": "text"
      },
      "source": [
        "<a href=\"https://colab.research.google.com/github/richa288/richa288/blob/main/Assignment_Richa_Singh_Syntactic_(2)_(1).ipynb\" target=\"_parent\"><img src=\"https://colab.research.google.com/assets/colab-badge.svg\" alt=\"Open In Colab\"/></a>"
      ]
    },
    {
      "cell_type": "code",
      "execution_count": null,
      "metadata": {
        "colab": {
          "base_uri": "https://localhost:8080/"
        },
        "id": "GBFMm0b31rit",
        "outputId": "3995b9e8-c61a-4998-9af0-0af30f6b96d2"
      },
      "outputs": [
        {
          "name": "stdout",
          "output_type": "stream",
          "text": [
            "Requirement already satisfied: pycrf in /usr/local/lib/python3.7/dist-packages (0.0.1)\n",
            "Requirement already satisfied: sklearn-crfsuite in /usr/local/lib/python3.7/dist-packages (0.3.6)\n",
            "Requirement already satisfied: python-crfsuite>=0.8.3 in /usr/local/lib/python3.7/dist-packages (from sklearn-crfsuite) (0.9.7)\n",
            "Requirement already satisfied: tqdm>=2.0 in /usr/local/lib/python3.7/dist-packages (from sklearn-crfsuite) (4.62.3)\n",
            "Requirement already satisfied: tabulate in /usr/local/lib/python3.7/dist-packages (from sklearn-crfsuite) (0.8.9)\n",
            "Requirement already satisfied: six in /usr/local/lib/python3.7/dist-packages (from sklearn-crfsuite) (1.15.0)\n"
          ]
        }
      ],
      "source": [
        "!pip install pycrf\n",
        "!pip install sklearn-crfsuite\n",
        "\n",
        "import spacy\n",
        "import sklearn_crfsuite\n",
        "from sklearn_crfsuite import metrics\n",
        "\n",
        "model = spacy.load(\"en_core_web_sm\")"
      ]
    },
    {
      "cell_type": "code",
      "execution_count": null,
      "metadata": {
        "id": "3uNbpeLgBxgL"
      },
      "outputs": [],
      "source": [
        "with open('/content/train_sent', 'r') as train_sent_file:\n",
        "  train_sentences = train_sent_file.readlines()\n",
        "\n",
        "with open('/content/train_label', 'r') as train_labels_file:\n",
        "  train_labels = train_labels_file.readlines()\n",
        "\n",
        "with open('/content/test_sent', 'r') as test_sent_file:\n",
        "  test_sentences = test_sent_file.readlines()\n",
        "\n",
        "with open('/content/test_label', 'r') as test_labels_file:\n",
        "  test_labels = test_labels_file.readlines()"
      ]
    },
    {
      "cell_type": "markdown",
      "metadata": {
        "id": "V_6SGvIfxG-e"
      },
      "source": [
        "**TASK1:Counts and printing of train and test data tokens and sentences"
      ]
    },
    {
      "cell_type": "code",
      "execution_count": null,
      "metadata": {
        "id": "RcT6ITsntF7G"
      },
      "outputs": [],
      "source": [
        "train_sent_list=[]\n",
        "sentences=\"\"\n",
        "for word in train_sentences:\n",
        "  if(word=='\\n'):\n",
        "    train_sent_list.append(sentences)\n",
        "    sentences=\"\"\n",
        "  else:\n",
        "    sentences+=word.strip()+\" \""
      ]
    },
    {
      "cell_type": "code",
      "execution_count": null,
      "metadata": {
        "id": "hR2FayFVtr_q"
      },
      "outputs": [],
      "source": [
        "train_label_list=[]\n",
        "sentences=\"\"\n",
        "for word in train_labels:\n",
        "  if(word=='\\n'):\n",
        "    train_label_list.append(sentences)\n",
        "    sentences=\"\"\n",
        "  else:\n",
        "    sentences+=word.strip()+\" \""
      ]
    },
    {
      "cell_type": "code",
      "execution_count": null,
      "metadata": {
        "colab": {
          "base_uri": "https://localhost:8080/"
        },
        "id": "teRFZUB3t7VE",
        "outputId": "572d93e0-7b44-48ac-9606-6264a3237653"
      },
      "outputs": [
        {
          "name": "stdout",
          "output_type": "stream",
          "text": [
            "All live births > or = 23 weeks at the University of Vermont in 1995 ( n = 2395 ) were retrospectively analyzed for delivery route , indication for cesarean , gestational age , parity , and practice group ( to reflect risk status ) \n",
            "The total cesarean rate was 14.4 % ( 344 of 2395 ) , and the primary rate was 11.4 % ( 244 of 2144 ) \n",
            "Abnormal presentation was the most common indication ( 25.6 % , 88 of 344 ) \n",
            "The `` corrected '' cesarean rate ( maternal-fetal medicine and transported patients excluded ) was 12.4 % ( 273 of 2194 ) , and the `` corrected '' primary rate was 9.6 % ( 190 of 1975 ) \n",
            "Arrest of dilation was the most common indication in both `` corrected '' subgroups ( 23.4 and 24.6 % , respectively ) \n"
          ]
        }
      ],
      "source": [
        "# Print the first 5 sentences from train sentences\n",
        "for sentences in train_sent_list[0:5]:\n",
        "  print(sentences)"
      ]
    },
    {
      "cell_type": "code",
      "execution_count": null,
      "metadata": {
        "colab": {
          "base_uri": "https://localhost:8080/"
        },
        "id": "c8AQ9zDluXzg",
        "outputId": "6c124c4b-ba0f-4671-fc8c-049fe6de24ec"
      },
      "outputs": [
        {
          "name": "stdout",
          "output_type": "stream",
          "text": [
            "O O O O O O O O O O O O O O O O O O O O O O O O O O O O O O O O O O O O O O O O O O O O O \n",
            "O O O O O O O O O O O O O O O O O O O O O O O O O \n",
            "O O O O O O O O O O O O O O O \n",
            "O O O O O O O O O O O O O O O O O O O O O O O O O O O O O O O O O O O O O O \n",
            "O O O O O O O O O O O O O O O O O O O O O O \n"
          ]
        }
      ],
      "source": [
        "# Print the first 5 corresponding labels from train sentences\n",
        "for sentences in train_label_list[0:5]:\n",
        "  print(sentences)"
      ]
    },
    {
      "cell_type": "code",
      "execution_count": null,
      "metadata": {
        "id": "Z4mZpYRouttG"
      },
      "outputs": [],
      "source": [
        "test_sent_list=[]\n",
        "sentences=\"\"\n",
        "for word in test_sentences:\n",
        "  if(word=='\\n'):\n",
        "    test_sent_list.append(sentences)\n",
        "    sentences=\"\"\n",
        "  else:\n",
        "    sentences+=word.strip()+\" \""
      ]
    },
    {
      "cell_type": "code",
      "execution_count": null,
      "metadata": {
        "id": "9QOJPOTDu1SS"
      },
      "outputs": [],
      "source": [
        "test_label_list=[]\n",
        "sentences=\"\"\n",
        "for word in test_labels:\n",
        "  if(word=='\\n'):\n",
        "    test_label_list.append(sentences)\n",
        "    sentences=\"\"\n",
        "  else:\n",
        "    sentences+=word.strip()+\" \""
      ]
    },
    {
      "cell_type": "code",
      "execution_count": null,
      "metadata": {
        "colab": {
          "base_uri": "https://localhost:8080/"
        },
        "id": "yC2Ncpx5ujOS",
        "outputId": "569b5794-e1c0-44f5-dbba-bc720f902f26"
      },
      "outputs": [
        {
          "name": "stdout",
          "output_type": "stream",
          "text": [
            "Furthermore , when all deliveries were analyzed , regardless of risk status but limited to gestational age > or = 36 weeks , the rates did not change ( 12.6 % , 280 of 2214 ; primary 9.2 % , 183 of 1994 ) \n",
            "As the ambient temperature increases , there is an increase in insensible fluid loss and the potential for dehydration \n",
            "The daily high temperature ranged from 71 to 104 degrees F and AFI values ranged from 1.7 to 24.7 cm during the study period \n",
            "There was a significant correlation between the 2- , 3- , and 4-day mean temperature and AFI , with the 4-day mean being the most significant ( r = 0.31 , p & # 60 ; 0.001 ) \n",
            "Fluctuations in ambient temperature are inversely correlated to changes in AFI \n"
          ]
        }
      ],
      "source": [
        "# Print the first 5 sentences from test sentences\n",
        "for sentences in test_sent_list[0:5]:\n",
        "  print(sentences)"
      ]
    },
    {
      "cell_type": "markdown",
      "metadata": {
        "id": "X5wEZRjuysNE"
      },
      "source": [
        "**Task 2:Labels and NOUN/PRONOUN bold text**"
      ]
    },
    {
      "cell_type": "code",
      "execution_count": null,
      "metadata": {
        "colab": {
          "base_uri": "https://localhost:8080/"
        },
        "id": "8RDOrDYRvF3r",
        "outputId": "5cf15967-7677-4583-b227-8d03a0f46f1e"
      },
      "outputs": [
        {
          "name": "stdout",
          "output_type": "stream",
          "text": [
            "O O O O O O O O O O O O O O O O O O O O O O O O O O O O O O O O O O O O O O O O O O O O \n",
            "O O O O O O O O O O O O O O O O O O O \n",
            "O O O O O O O O O O O O O O O O O O O O O O O O \n",
            "O O O O O O O O O O O O O O O O O O O O O O O O O O O O O O O O O O O O O O \n",
            "O O O O O O O O O O O \n"
          ]
        }
      ],
      "source": [
        "# Print the first 5 corresponding labels from test sentences\n",
        "for sentences in test_label_list[0:5]:\n",
        "  print(sentences)"
      ]
    },
    {
      "cell_type": "code",
      "execution_count": null,
      "metadata": {
        "colab": {
          "base_uri": "https://localhost:8080/"
        },
        "id": "OPa97qz0vSsD",
        "outputId": "166e6a9f-ed81-418e-ec6f-899ffe2b8dd9"
      },
      "outputs": [
        {
          "name": "stdout",
          "output_type": "stream",
          "text": [
            "The count of sentence in train set are:  2599\n",
            "The count of sentence in test set are:  1056\n"
          ]
        }
      ],
      "source": [
        "# Print the count of sentences in the train_sent and test_sent\n",
        "print(\"The count of sentence in train set are: \", len(train_sent_list))\n",
        "print(\"The count of sentence in test set are: \", len(test_sent_list))"
      ]
    },
    {
      "cell_type": "code",
      "execution_count": null,
      "metadata": {
        "colab": {
          "base_uri": "https://localhost:8080/"
        },
        "id": "5WQuIrLpv6it",
        "outputId": "8d65cc2c-0fc2-4e96-c1cc-5d7ef6493305"
      },
      "outputs": [
        {
          "name": "stdout",
          "output_type": "stream",
          "text": [
            "The count of sentence in train label set are:  2599\n",
            "The count of sentence in test label set are:  1056\n"
          ]
        }
      ],
      "source": [
        "# Print the count of sentences in the train label and test label\n",
        "print(\"The count of sentence in train label set are: \", len(train_label_list))\n",
        "print(\"The count of sentence in test label set are: \", len(test_label_list))"
      ]
    },
    {
      "cell_type": "code",
      "execution_count": null,
      "metadata": {
        "colab": {
          "base_uri": "https://localhost:8080/"
        },
        "id": "t35hQhyawzBD",
        "outputId": "5db67e3c-6235-4fec-fbd2-7737a2fdd97c"
      },
      "outputs": [
        {
          "name": "stdout",
          "output_type": "stream",
          "text": [
            "Total sentences from train and test are:  3655\n"
          ]
        }
      ],
      "source": [
        "combined_sentences = train_sent_list.copy()\n",
        "combined_sentences.extend(test_sent_list)\n",
        "print(\"Total sentences from train and test are: \", len(combined_sentences))"
      ]
    },
    {
      "cell_type": "code",
      "execution_count": null,
      "metadata": {
        "id": "fhvVY05PyLs1"
      },
      "outputs": [],
      "source": [
        "import pandas as pd"
      ]
    },
    {
      "cell_type": "code",
      "execution_count": null,
      "metadata": {
        "id": "5FpRE0CtxapH"
      },
      "outputs": [],
      "source": [
        "# Find the total count of 'NOUN' and 'PROPN' in the train and test data combined and store in dictionary\n",
        "df_dict={\"Text\":[], \"Pos\":[]}\n",
        "tags = [\"NOUN\", \"PROPN\"]\n",
        "for doc in combined_sentences:\n",
        "  processed_doc = model(doc)\n",
        "  for token in processed_doc:\n",
        "    if(token.pos_ in tags ):\n",
        "      df_dict[\"Text\"].append(token.text)\n",
        "      df_dict[\"Pos\"].append(token.pos_)"
      ]
    },
    {
      "cell_type": "code",
      "execution_count": null,
      "metadata": {
        "id": "4FdJhuRXyB1R"
      },
      "outputs": [],
      "source": [
        "data = pd.DataFrame(df_dict)"
      ]
    },
    {
      "cell_type": "code",
      "execution_count": null,
      "metadata": {
        "colab": {
          "base_uri": "https://localhost:8080/"
        },
        "id": "k_CQrWm2yb1m",
        "outputId": "60d5b568-524e-4257-f364-83f0b1fefff2"
      },
      "outputs": [
        {
          "name": "stdout",
          "output_type": "stream",
          "text": [
            "NOUN     19776\n",
            "PROPN     4551\n",
            "Name: Pos, dtype: int64\n"
          ]
        }
      ],
      "source": [
        "# Print the total count of NOUN and PROPN\n",
        "print(data['Pos'].value_counts())"
      ]
    },
    {
      "cell_type": "code",
      "execution_count": null,
      "metadata": {
        "colab": {
          "base_uri": "https://localhost:8080/"
        },
        "id": "QhNLQS9oyn98",
        "outputId": "0e37c75c-8e1b-49d9-b31b-59a5cc24f10d"
      },
      "outputs": [
        {
          "data": {
            "text/plain": [
              "patients        491\n",
              "treatment       281\n",
              "%               247\n",
              "cancer          200\n",
              "therapy         175\n",
              "study           153\n",
              "disease         141\n",
              "cell            140\n",
              "lung            116\n",
              "group            94\n",
              "chemotherapy     88\n",
              "gene             87\n",
              "effects          85\n",
              "results          79\n",
              "women            77\n",
              "use              75\n",
              "surgery          71\n",
              "risk             71\n",
              "cases            71\n",
              "analysis         70\n",
              "rate             67\n",
              "response         66\n",
              "survival         65\n",
              "children         64\n",
              "effect           63\n",
              "Name: Text, dtype: int64"
            ]
          },
          "execution_count": 229,
          "metadata": {},
          "output_type": "execute_result"
        }
      ],
      "source": [
        "# Print the top 25 most common tokens with NOUN or PROPN PoS tags\n",
        "data['Text'].value_counts().head(25)"
      ]
    },
    {
      "cell_type": "markdown",
      "metadata": {
        "id": "Aoy2LbVxyHH8"
      },
      "source": [
        "**TASK3 & 4 ,5:Features And CRF Model **"
      ]
    },
    {
      "cell_type": "code",
      "execution_count": null,
      "metadata": {
        "id": "Ni8V6mpKph6i"
      },
      "outputs": [],
      "source": [
        "# Define a function to get the list of POS tags\n",
        "def get_pos(sentence):\n",
        "  pos_list=[]\n",
        "  processed_sent = model(sentence)\n",
        "  for token in processed_sent:\n",
        "    pos_list.append(token.pos_)\n",
        "  return pos_list"
      ]
    },
    {
      "cell_type": "code",
      "execution_count": null,
      "metadata": {
        "id": "o6itsP2Qph9Z"
      },
      "outputs": [],
      "source": [
        "# Let's define the features to get the feature value for one word.\n",
        "def getFeaturesForOneWord(sentence, pos, pos_list):\n",
        "  word = sentence[pos]\n",
        "\n",
        "  features = [\n",
        "    'word.pos=' + pos_list[pos],\n",
        "    'word.lower=' + word.lower(), # serves as word id\n",
        "    'word[-3:]=' + word[-3:],     # last three characters\n",
        "    'word[:3]=' + word[:3],     # first three characters\n",
        "    'word.isupper=%s' % word.isupper(),  # is the word in all uppercase\n",
        "    'word.isdigit=%s' % word.isdigit(),  # is the word a number\n",
        "    'words.startsWithCapital=%s' % word[0].isupper() # is the word starting with a capital letter\n",
        "  ]\n",
        " \n",
        "  if(pos > 0):\n",
        "    prev_word = sentence[pos-1]\n",
        "    features.extend([\n",
        "    'prev_word.pos=' + pos_list[pos-1],\n",
        "    'prev_word.lower=' + prev_word.lower(), \n",
        "    'prev_word.isupper=%s' % prev_word.isupper(),\n",
        "    'prev_word.isdigit=%s' % prev_word.isdigit(),\n",
        "    'prev_words.startsWithCapital=%s' % prev_word[0].isupper()\n",
        "  ])\n",
        "  else:\n",
        "    features.append('BEG') # feature to track begin of sentence \n",
        " \n",
        "  if(pos == len(sentence)-1):\n",
        "    features.append('END') # feature to track end of sentence\n",
        " \n",
        "  return features\n"
      ]
    },
    {
      "cell_type": "markdown",
      "metadata": {
        "id": "TY0pUBfOz0KU"
      },
      "source": [
        "Task6"
      ]
    },
    {
      "cell_type": "code",
      "execution_count": null,
      "metadata": {
        "id": "yjkOQv0dpiAS"
      },
      "outputs": [],
      "source": [
        "# Write a code to get features for a sentence.\n",
        "def getFeaturesForOneSentence(sentence, pos_list):\n",
        "  sentence_list = sentence.split()\n",
        "  return [getFeaturesForOneWord(sentence_list, pos,pos_list) for pos in range(len(sentence_list))]"
      ]
    },
    {
      "cell_type": "code",
      "execution_count": null,
      "metadata": {
        "id": "5SiCnHiSpiC2"
      },
      "outputs": [],
      "source": [
        "# Define a function to get the labels for a sentence.\n",
        "def getLabelsInListForOneSentence(labels):\n",
        "  return labels.split()"
      ]
    },
    {
      "cell_type": "code",
      "execution_count": null,
      "metadata": {
        "id": "aezMZbeZrZt2"
      },
      "outputs": [],
      "source": [
        "X_train = [getFeaturesForOneSentence(sentence, get_pos(sentence)) for sentence in train_sent_list]\n",
        "X_test = [getFeaturesForOneSentence(sentence,  get_pos(sentence)) for sentence in test_sent_list]"
      ]
    },
    {
      "cell_type": "code",
      "execution_count": null,
      "metadata": {
        "id": "ynOJj9eFrZw7"
      },
      "outputs": [],
      "source": [
        "Y_train = [getLabelsInListForOneSentence(labels) for labels in train_label_list]\n",
        "Y_test = [getLabelsInListForOneSentence(labels) for labels in test_label_list]"
      ]
    },
    {
      "cell_type": "code",
      "execution_count": null,
      "metadata": {
        "id": "9GkI2i4KrZ6H"
      },
      "outputs": [],
      "source": [
        "# Build the CRF model.\n",
        "crf = sklearn_crfsuite.CRF(max_iterations=200)"
      ]
    },
    {
      "cell_type": "code",
      "execution_count": null,
      "metadata": {
        "id": "LGtgXm8ZsSTR"
      },
      "outputs": [],
      "source": [
        "# uncomment and use this as a workaround if it throws AttributeError due to version mismatch\n",
        "try:\n",
        "    crf.fit(X_train, Y_train)\n",
        "except AttributeError:\n",
        "    pass"
      ]
    },
    {
      "cell_type": "code",
      "execution_count": null,
      "metadata": {
        "id": "h_WugdXasSa6"
      },
      "outputs": [],
      "source": [
        "# Make predictions\n",
        "predicted_Y = crf.predict(X_test)"
      ]
    },
    {
      "cell_type": "markdown",
      "metadata": {
        "id": "fHYzthp1zgDG"
      },
      "source": [
        "Task7 & 8"
      ]
    },
    {
      "cell_type": "code",
      "execution_count": null,
      "metadata": {
        "colab": {
          "base_uri": "https://localhost:8080/"
        },
        "id": "r-Uwj-cEsSmO",
        "outputId": "c90c101d-b956-4458-99a3-acff9876ff16"
      },
      "outputs": [
        {
          "name": "stdout",
          "output_type": "stream",
          "text": [
            "The f1 score is  0.9166816091477993\n"
          ]
        }
      ],
      "source": [
        "# Calculate and print the f1 score\n",
        "print(\"The f1 score is \",metrics.flat_f1_score(Y_test, predicted_Y, average='weighted'))"
      ]
    },
    {
      "cell_type": "code",
      "execution_count": null,
      "metadata": {
        "id": "SexmuVtnsSrD"
      },
      "outputs": [],
      "source": [
        "def diseaseTreatment(data):\n",
        "    disease_treatment={}\n",
        "    for index, sentence in enumerate(data):\n",
        "        disease = []\n",
        "        treatment = []\n",
        "        for word_index, word in enumerate(sentence):\n",
        "            if(word=='D'):\n",
        "                disease.append(test_sent_list[index].split()[word_index])\n",
        "            if(word=='T'):\n",
        "                treatment.append(test_sent_list[index].split()[word_index])\n",
        "        if(len(disease)>0 and len(treatment)>0):\n",
        "            disease_treatment[' '.join(disease)] = treatment\n",
        "    return disease_treatment"
      ]
    },
    {
      "cell_type": "code",
      "execution_count": null,
      "metadata": {
        "id": "haCG-dfdsSuO"
      },
      "outputs": [],
      "source": [
        "def displayKeyValue(disease_treatment): # method to display the key value pairs for disease and treatments\n",
        "    return pd.DataFrame({\"Disease\":list(disease_treatment.keys()),\"Treatments\":disease_treatment.values()})"
      ]
    },
    {
      "cell_type": "code",
      "execution_count": null,
      "metadata": {
        "id": "mkfHn4easSxS"
      },
      "outputs": [],
      "source": [
        "# Get the dataframe for the disease and treatment mapping\n",
        "data = diseaseTreatment(predicted_Y)\n",
        "\n",
        "\n"
      ]
    },
    {
      "cell_type": "code",
      "execution_count": null,
      "metadata": {
        "colab": {
          "base_uri": "https://localhost:8080/",
          "height": 206
        },
        "id": "agRbaMoxsSz9",
        "outputId": "705433a0-6933-41bb-9ecc-52736284bfd4"
      },
      "outputs": [
        {
          "data": {
            "text/html": [
              "\n",
              "  <div id=\"df-32da8cd4-4b88-452b-af97-56f0f674cf55\">\n",
              "    <div class=\"colab-df-container\">\n",
              "      <div>\n",
              "<style scoped>\n",
              "    .dataframe tbody tr th:only-of-type {\n",
              "        vertical-align: middle;\n",
              "    }\n",
              "\n",
              "    .dataframe tbody tr th {\n",
              "        vertical-align: top;\n",
              "    }\n",
              "\n",
              "    .dataframe thead th {\n",
              "        text-align: right;\n",
              "    }\n",
              "</style>\n",
              "<table border=\"1\" class=\"dataframe\">\n",
              "  <thead>\n",
              "    <tr style=\"text-align: right;\">\n",
              "      <th></th>\n",
              "      <th>Disease</th>\n",
              "      <th>Treatments</th>\n",
              "    </tr>\n",
              "  </thead>\n",
              "  <tbody>\n",
              "    <tr>\n",
              "      <th>0</th>\n",
              "      <td>nonimmune hydrops fetalis</td>\n",
              "      <td>[Trisomy]</td>\n",
              "    </tr>\n",
              "    <tr>\n",
              "      <th>1</th>\n",
              "      <td>hereditary retinoblastoma</td>\n",
              "      <td>[radiotherapy]</td>\n",
              "    </tr>\n",
              "    <tr>\n",
              "      <th>2</th>\n",
              "      <td>myocardial infarction</td>\n",
              "      <td>[aspirin, ,, 3, mg, warfarin, with, 80, mg, as...</td>\n",
              "    </tr>\n",
              "    <tr>\n",
              "      <th>3</th>\n",
              "      <td>unstable angina or non-Q-wave myocardial infar...</td>\n",
              "      <td>[roxithromycin]</td>\n",
              "    </tr>\n",
              "    <tr>\n",
              "      <th>4</th>\n",
              "      <td>coronary-artery disease</td>\n",
              "      <td>[Antichlamydial, antibiotics]</td>\n",
              "    </tr>\n",
              "  </tbody>\n",
              "</table>\n",
              "</div>\n",
              "      <button class=\"colab-df-convert\" onclick=\"convertToInteractive('df-32da8cd4-4b88-452b-af97-56f0f674cf55')\"\n",
              "              title=\"Convert this dataframe to an interactive table.\"\n",
              "              style=\"display:none;\">\n",
              "        \n",
              "  <svg xmlns=\"http://www.w3.org/2000/svg\" height=\"24px\"viewBox=\"0 0 24 24\"\n",
              "       width=\"24px\">\n",
              "    <path d=\"M0 0h24v24H0V0z\" fill=\"none\"/>\n",
              "    <path d=\"M18.56 5.44l.94 2.06.94-2.06 2.06-.94-2.06-.94-.94-2.06-.94 2.06-2.06.94zm-11 1L8.5 8.5l.94-2.06 2.06-.94-2.06-.94L8.5 2.5l-.94 2.06-2.06.94zm10 10l.94 2.06.94-2.06 2.06-.94-2.06-.94-.94-2.06-.94 2.06-2.06.94z\"/><path d=\"M17.41 7.96l-1.37-1.37c-.4-.4-.92-.59-1.43-.59-.52 0-1.04.2-1.43.59L10.3 9.45l-7.72 7.72c-.78.78-.78 2.05 0 2.83L4 21.41c.39.39.9.59 1.41.59.51 0 1.02-.2 1.41-.59l7.78-7.78 2.81-2.81c.8-.78.8-2.07 0-2.86zM5.41 20L4 18.59l7.72-7.72 1.47 1.35L5.41 20z\"/>\n",
              "  </svg>\n",
              "      </button>\n",
              "      \n",
              "  <style>\n",
              "    .colab-df-container {\n",
              "      display:flex;\n",
              "      flex-wrap:wrap;\n",
              "      gap: 12px;\n",
              "    }\n",
              "\n",
              "    .colab-df-convert {\n",
              "      background-color: #E8F0FE;\n",
              "      border: none;\n",
              "      border-radius: 50%;\n",
              "      cursor: pointer;\n",
              "      display: none;\n",
              "      fill: #1967D2;\n",
              "      height: 32px;\n",
              "      padding: 0 0 0 0;\n",
              "      width: 32px;\n",
              "    }\n",
              "\n",
              "    .colab-df-convert:hover {\n",
              "      background-color: #E2EBFA;\n",
              "      box-shadow: 0px 1px 2px rgba(60, 64, 67, 0.3), 0px 1px 3px 1px rgba(60, 64, 67, 0.15);\n",
              "      fill: #174EA6;\n",
              "    }\n",
              "\n",
              "    [theme=dark] .colab-df-convert {\n",
              "      background-color: #3B4455;\n",
              "      fill: #D2E3FC;\n",
              "    }\n",
              "\n",
              "    [theme=dark] .colab-df-convert:hover {\n",
              "      background-color: #434B5C;\n",
              "      box-shadow: 0px 1px 3px 1px rgba(0, 0, 0, 0.15);\n",
              "      filter: drop-shadow(0px 1px 2px rgba(0, 0, 0, 0.3));\n",
              "      fill: #FFFFFF;\n",
              "    }\n",
              "  </style>\n",
              "\n",
              "      <script>\n",
              "        const buttonEl =\n",
              "          document.querySelector('#df-32da8cd4-4b88-452b-af97-56f0f674cf55 button.colab-df-convert');\n",
              "        buttonEl.style.display =\n",
              "          google.colab.kernel.accessAllowed ? 'block' : 'none';\n",
              "\n",
              "        async function convertToInteractive(key) {\n",
              "          const element = document.querySelector('#df-32da8cd4-4b88-452b-af97-56f0f674cf55');\n",
              "          const dataTable =\n",
              "            await google.colab.kernel.invokeFunction('convertToInteractive',\n",
              "                                                     [key], {});\n",
              "          if (!dataTable) return;\n",
              "\n",
              "          const docLinkHtml = 'Like what you see? Visit the ' +\n",
              "            '<a target=\"_blank\" href=https://colab.research.google.com/notebooks/data_table.ipynb>data table notebook</a>'\n",
              "            + ' to learn more about interactive tables.';\n",
              "          element.innerHTML = '';\n",
              "          dataTable['output_type'] = 'display_data';\n",
              "          await google.colab.output.renderOutput(dataTable, element);\n",
              "          const docLink = document.createElement('div');\n",
              "          docLink.innerHTML = docLinkHtml;\n",
              "          element.appendChild(docLink);\n",
              "        }\n",
              "      </script>\n",
              "    </div>\n",
              "  </div>\n",
              "  "
            ],
            "text/plain": [
              "                                             Disease                                         Treatments\n",
              "0                          nonimmune hydrops fetalis                                          [Trisomy]\n",
              "1                          hereditary retinoblastoma                                     [radiotherapy]\n",
              "2                              myocardial infarction  [aspirin, ,, 3, mg, warfarin, with, 80, mg, as...\n",
              "3  unstable angina or non-Q-wave myocardial infar...                                    [roxithromycin]\n",
              "4                            coronary-artery disease                      [Antichlamydial, antibiotics]"
            ]
          },
          "execution_count": 243,
          "metadata": {},
          "output_type": "execute_result"
        }
      ],
      "source": [
        "data_mapping = displayKeyValue(data)\n",
        "data_mapping.head()"
      ]
    },
    {
      "cell_type": "code",
      "execution_count": null,
      "metadata": {
        "colab": {
          "base_uri": "https://localhost:8080/",
          "height": 676
        },
        "id": "RJdpeWe1sS21",
        "outputId": "f12405a4-6b22-4e10-b20e-d19750149231"
      },
      "outputs": [
        {
          "data": {
            "text/html": [
              "\n",
              "  <div id=\"df-4b1fc88b-f94a-44be-b482-056bd0bbaa97\">\n",
              "    <div class=\"colab-df-container\">\n",
              "      <div>\n",
              "<style scoped>\n",
              "    .dataframe tbody tr th:only-of-type {\n",
              "        vertical-align: middle;\n",
              "    }\n",
              "\n",
              "    .dataframe tbody tr th {\n",
              "        vertical-align: top;\n",
              "    }\n",
              "\n",
              "    .dataframe thead th {\n",
              "        text-align: right;\n",
              "    }\n",
              "</style>\n",
              "<table border=\"1\" class=\"dataframe\">\n",
              "  <thead>\n",
              "    <tr style=\"text-align: right;\">\n",
              "      <th></th>\n",
              "      <th>Disease</th>\n",
              "      <th>Treatments</th>\n",
              "    </tr>\n",
              "  </thead>\n",
              "  <tbody>\n",
              "    <tr>\n",
              "      <th>0</th>\n",
              "      <td>nonimmune hydrops fetalis</td>\n",
              "      <td>Trisomy</td>\n",
              "    </tr>\n",
              "    <tr>\n",
              "      <th>1</th>\n",
              "      <td>hereditary retinoblastoma</td>\n",
              "      <td>radiotherapy</td>\n",
              "    </tr>\n",
              "    <tr>\n",
              "      <th>2</th>\n",
              "      <td>myocardial infarction</td>\n",
              "      <td>aspirin , , , 3 , mg , warfarin , with , 80 , ...</td>\n",
              "    </tr>\n",
              "    <tr>\n",
              "      <th>3</th>\n",
              "      <td>unstable angina or non-Q-wave myocardial infar...</td>\n",
              "      <td>roxithromycin</td>\n",
              "    </tr>\n",
              "    <tr>\n",
              "      <th>4</th>\n",
              "      <td>coronary-artery disease</td>\n",
              "      <td>Antichlamydial , antibiotics</td>\n",
              "    </tr>\n",
              "    <tr>\n",
              "      <th>5</th>\n",
              "      <td>primary pulmonary hypertension ( PPH )</td>\n",
              "      <td>fenfluramines</td>\n",
              "    </tr>\n",
              "    <tr>\n",
              "      <th>6</th>\n",
              "      <td>essential hypertension</td>\n",
              "      <td>moxonidine</td>\n",
              "    </tr>\n",
              "    <tr>\n",
              "      <th>7</th>\n",
              "      <td>foot infection</td>\n",
              "      <td>G-CSF , treatment</td>\n",
              "    </tr>\n",
              "    <tr>\n",
              "      <th>8</th>\n",
              "      <td>hemorrhagic stroke</td>\n",
              "      <td>double-bolus , alteplase</td>\n",
              "    </tr>\n",
              "    <tr>\n",
              "      <th>9</th>\n",
              "      <td>cardiac disease</td>\n",
              "      <td>fenfluramine-phentermine</td>\n",
              "    </tr>\n",
              "    <tr>\n",
              "      <th>10</th>\n",
              "      <td>early Parkinson 's disease</td>\n",
              "      <td>Ropinirole , monotherapy</td>\n",
              "    </tr>\n",
              "    <tr>\n",
              "      <th>11</th>\n",
              "      <td>sore throat</td>\n",
              "      <td>Antibiotics</td>\n",
              "    </tr>\n",
              "    <tr>\n",
              "      <th>12</th>\n",
              "      <td>abdominal tuberculosis Crohn 's disease</td>\n",
              "      <td>steroids</td>\n",
              "    </tr>\n",
              "    <tr>\n",
              "      <th>13</th>\n",
              "      <td>female stress urinary incontinence</td>\n",
              "      <td>surgical , treatment</td>\n",
              "    </tr>\n",
              "    <tr>\n",
              "      <th>14</th>\n",
              "      <td>stress urinary incontinence</td>\n",
              "      <td>therapy</td>\n",
              "    </tr>\n",
              "    <tr>\n",
              "      <th>15</th>\n",
              "      <td>preeclampsia ( proteinuric hypertension )</td>\n",
              "      <td>intrauterine , insemination , with , donor , s...</td>\n",
              "    </tr>\n",
              "    <tr>\n",
              "      <th>16</th>\n",
              "      <td>severe acquired hyperammonemia cancer</td>\n",
              "      <td>organ , transplantation , and , chemotherapy</td>\n",
              "    </tr>\n",
              "    <tr>\n",
              "      <th>17</th>\n",
              "      <td>major pulmonary embolism</td>\n",
              "      <td>right-side , hemodynamics</td>\n",
              "    </tr>\n",
              "    <tr>\n",
              "      <th>18</th>\n",
              "      <td>malignant pleural mesothelioma</td>\n",
              "      <td>radiotherapy , , , and , chemotherapy</td>\n",
              "    </tr>\n",
              "    <tr>\n",
              "      <th>19</th>\n",
              "      <td>pulmonary symptoms attributable</td>\n",
              "      <td>chemotherapy</td>\n",
              "    </tr>\n",
              "  </tbody>\n",
              "</table>\n",
              "</div>\n",
              "      <button class=\"colab-df-convert\" onclick=\"convertToInteractive('df-4b1fc88b-f94a-44be-b482-056bd0bbaa97')\"\n",
              "              title=\"Convert this dataframe to an interactive table.\"\n",
              "              style=\"display:none;\">\n",
              "        \n",
              "  <svg xmlns=\"http://www.w3.org/2000/svg\" height=\"24px\"viewBox=\"0 0 24 24\"\n",
              "       width=\"24px\">\n",
              "    <path d=\"M0 0h24v24H0V0z\" fill=\"none\"/>\n",
              "    <path d=\"M18.56 5.44l.94 2.06.94-2.06 2.06-.94-2.06-.94-.94-2.06-.94 2.06-2.06.94zm-11 1L8.5 8.5l.94-2.06 2.06-.94-2.06-.94L8.5 2.5l-.94 2.06-2.06.94zm10 10l.94 2.06.94-2.06 2.06-.94-2.06-.94-.94-2.06-.94 2.06-2.06.94z\"/><path d=\"M17.41 7.96l-1.37-1.37c-.4-.4-.92-.59-1.43-.59-.52 0-1.04.2-1.43.59L10.3 9.45l-7.72 7.72c-.78.78-.78 2.05 0 2.83L4 21.41c.39.39.9.59 1.41.59.51 0 1.02-.2 1.41-.59l7.78-7.78 2.81-2.81c.8-.78.8-2.07 0-2.86zM5.41 20L4 18.59l7.72-7.72 1.47 1.35L5.41 20z\"/>\n",
              "  </svg>\n",
              "      </button>\n",
              "      \n",
              "  <style>\n",
              "    .colab-df-container {\n",
              "      display:flex;\n",
              "      flex-wrap:wrap;\n",
              "      gap: 12px;\n",
              "    }\n",
              "\n",
              "    .colab-df-convert {\n",
              "      background-color: #E8F0FE;\n",
              "      border: none;\n",
              "      border-radius: 50%;\n",
              "      cursor: pointer;\n",
              "      display: none;\n",
              "      fill: #1967D2;\n",
              "      height: 32px;\n",
              "      padding: 0 0 0 0;\n",
              "      width: 32px;\n",
              "    }\n",
              "\n",
              "    .colab-df-convert:hover {\n",
              "      background-color: #E2EBFA;\n",
              "      box-shadow: 0px 1px 2px rgba(60, 64, 67, 0.3), 0px 1px 3px 1px rgba(60, 64, 67, 0.15);\n",
              "      fill: #174EA6;\n",
              "    }\n",
              "\n",
              "    [theme=dark] .colab-df-convert {\n",
              "      background-color: #3B4455;\n",
              "      fill: #D2E3FC;\n",
              "    }\n",
              "\n",
              "    [theme=dark] .colab-df-convert:hover {\n",
              "      background-color: #434B5C;\n",
              "      box-shadow: 0px 1px 3px 1px rgba(0, 0, 0, 0.15);\n",
              "      filter: drop-shadow(0px 1px 2px rgba(0, 0, 0, 0.3));\n",
              "      fill: #FFFFFF;\n",
              "    }\n",
              "  </style>\n",
              "\n",
              "      <script>\n",
              "        const buttonEl =\n",
              "          document.querySelector('#df-4b1fc88b-f94a-44be-b482-056bd0bbaa97 button.colab-df-convert');\n",
              "        buttonEl.style.display =\n",
              "          google.colab.kernel.accessAllowed ? 'block' : 'none';\n",
              "\n",
              "        async function convertToInteractive(key) {\n",
              "          const element = document.querySelector('#df-4b1fc88b-f94a-44be-b482-056bd0bbaa97');\n",
              "          const dataTable =\n",
              "            await google.colab.kernel.invokeFunction('convertToInteractive',\n",
              "                                                     [key], {});\n",
              "          if (!dataTable) return;\n",
              "\n",
              "          const docLinkHtml = 'Like what you see? Visit the ' +\n",
              "            '<a target=\"_blank\" href=https://colab.research.google.com/notebooks/data_table.ipynb>data table notebook</a>'\n",
              "            + ' to learn more about interactive tables.';\n",
              "          element.innerHTML = '';\n",
              "          dataTable['output_type'] = 'display_data';\n",
              "          await google.colab.output.renderOutput(dataTable, element);\n",
              "          const docLink = document.createElement('div');\n",
              "          docLink.innerHTML = docLinkHtml;\n",
              "          element.appendChild(docLink);\n",
              "        }\n",
              "      </script>\n",
              "    </div>\n",
              "  </div>\n",
              "  "
            ],
            "text/plain": [
              "                                              Disease                                         Treatments\n",
              "0                           nonimmune hydrops fetalis                                            Trisomy\n",
              "1                           hereditary retinoblastoma                                       radiotherapy\n",
              "2                               myocardial infarction  aspirin , , , 3 , mg , warfarin , with , 80 , ...\n",
              "3   unstable angina or non-Q-wave myocardial infar...                                      roxithromycin\n",
              "4                             coronary-artery disease                       Antichlamydial , antibiotics\n",
              "5              primary pulmonary hypertension ( PPH )                                      fenfluramines\n",
              "6                              essential hypertension                                         moxonidine\n",
              "7                                      foot infection                                  G-CSF , treatment\n",
              "8                                  hemorrhagic stroke                           double-bolus , alteplase\n",
              "9                                     cardiac disease                           fenfluramine-phentermine\n",
              "10                         early Parkinson 's disease                           Ropinirole , monotherapy\n",
              "11                                        sore throat                                        Antibiotics\n",
              "12            abdominal tuberculosis Crohn 's disease                                           steroids\n",
              "13                 female stress urinary incontinence                               surgical , treatment\n",
              "14                        stress urinary incontinence                                            therapy\n",
              "15          preeclampsia ( proteinuric hypertension )  intrauterine , insemination , with , donor , s...\n",
              "16              severe acquired hyperammonemia cancer       organ , transplantation , and , chemotherapy\n",
              "17                           major pulmonary embolism                          right-side , hemodynamics\n",
              "18                     malignant pleural mesothelioma              radiotherapy , , , and , chemotherapy\n",
              "19                    pulmonary symptoms attributable                                       chemotherapy"
            ]
          },
          "execution_count": 244,
          "metadata": {},
          "output_type": "execute_result"
        }
      ],
      "source": [
        "data_mapping[\"Treatments\"] = data_mapping[\"Treatments\"].apply(lambda x:' , '.join(x))\n",
        "data_mapping.head(20)"
      ]
    },
    {
      "cell_type": "code",
      "execution_count": null,
      "metadata": {
        "colab": {
          "base_uri": "https://localhost:8080/"
        },
        "id": "JC_vOPpdrZ9g",
        "outputId": "053c9a42-02fa-4171-c7d3-8f6b7a431cfa"
      },
      "outputs": [
        {
          "name": "stdout",
          "output_type": "stream",
          "text": [
            "The treatment for disease hereditary retinoblastoma  is:  radiotherapy\n"
          ]
        }
      ],
      "source": [
        "disease='hereditary retinoblastoma'\n",
        "print(\"The treatment for disease hereditary retinoblastoma  is: \", ' '.join(data[disease]))"
      ]
    }
  ],
  "metadata": {
    "colab": {
      "collapsed_sections": [],
      "machine_shape": "hm",
      "name": "Assignment_Richa_Singh_Syntactic (2) (1).ipynb",
      "provenance": [],
      "include_colab_link": true
    },
    "kernelspec": {
      "display_name": "Python 3 (ipykernel)",
      "language": "python",
      "name": "python3"
    },
    "language_info": {
      "codemirror_mode": {
        "name": "ipython",
        "version": 3
      },
      "file_extension": ".py",
      "mimetype": "text/x-python",
      "name": "python",
      "nbconvert_exporter": "python",
      "pygments_lexer": "ipython3",
      "version": "3.7.11"
    }
  },
  "nbformat": 4,
  "nbformat_minor": 0
}